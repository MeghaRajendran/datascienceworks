{
 "cells": [
  {
   "cell_type": "markdown",
   "id": "f91fc7f2",
   "metadata": {},
   "source": [
    "## Health Insurance Cost Prediction"
   ]
  },
  {
   "cell_type": "code",
   "execution_count": 1,
   "id": "64c72bf4",
   "metadata": {},
   "outputs": [],
   "source": [
    "import numpy as np\n",
    "import pandas as pd\n",
    "import matplotlib.pyplot as plt\n",
    "import seaborn as sns"
   ]
  },
  {
   "cell_type": "code",
   "execution_count": 2,
   "id": "1e1ba546",
   "metadata": {},
   "outputs": [],
   "source": [
    "df=pd.read_csv(r\"C:\\Users\\megha\\OneDrive\\Desktop\\datasets\\insurance.csv\")"
   ]
  },
  {
   "cell_type": "code",
   "execution_count": 3,
   "id": "9b36e1d7",
   "metadata": {},
   "outputs": [
    {
     "data": {
      "text/html": [
       "<div>\n",
       "<style scoped>\n",
       "    .dataframe tbody tr th:only-of-type {\n",
       "        vertical-align: middle;\n",
       "    }\n",
       "\n",
       "    .dataframe tbody tr th {\n",
       "        vertical-align: top;\n",
       "    }\n",
       "\n",
       "    .dataframe thead th {\n",
       "        text-align: right;\n",
       "    }\n",
       "</style>\n",
       "<table border=\"1\" class=\"dataframe\">\n",
       "  <thead>\n",
       "    <tr style=\"text-align: right;\">\n",
       "      <th></th>\n",
       "      <th>age</th>\n",
       "      <th>sex</th>\n",
       "      <th>bmi</th>\n",
       "      <th>children</th>\n",
       "      <th>smoker</th>\n",
       "      <th>region</th>\n",
       "      <th>charges</th>\n",
       "    </tr>\n",
       "  </thead>\n",
       "  <tbody>\n",
       "    <tr>\n",
       "      <th>0</th>\n",
       "      <td>19</td>\n",
       "      <td>female</td>\n",
       "      <td>27.900</td>\n",
       "      <td>0</td>\n",
       "      <td>yes</td>\n",
       "      <td>southwest</td>\n",
       "      <td>16884.92400</td>\n",
       "    </tr>\n",
       "    <tr>\n",
       "      <th>1</th>\n",
       "      <td>18</td>\n",
       "      <td>male</td>\n",
       "      <td>33.770</td>\n",
       "      <td>1</td>\n",
       "      <td>no</td>\n",
       "      <td>southeast</td>\n",
       "      <td>1725.55230</td>\n",
       "    </tr>\n",
       "    <tr>\n",
       "      <th>2</th>\n",
       "      <td>28</td>\n",
       "      <td>male</td>\n",
       "      <td>33.000</td>\n",
       "      <td>3</td>\n",
       "      <td>no</td>\n",
       "      <td>southeast</td>\n",
       "      <td>4449.46200</td>\n",
       "    </tr>\n",
       "    <tr>\n",
       "      <th>3</th>\n",
       "      <td>33</td>\n",
       "      <td>male</td>\n",
       "      <td>22.705</td>\n",
       "      <td>0</td>\n",
       "      <td>no</td>\n",
       "      <td>northwest</td>\n",
       "      <td>21984.47061</td>\n",
       "    </tr>\n",
       "    <tr>\n",
       "      <th>4</th>\n",
       "      <td>32</td>\n",
       "      <td>male</td>\n",
       "      <td>28.880</td>\n",
       "      <td>0</td>\n",
       "      <td>no</td>\n",
       "      <td>northwest</td>\n",
       "      <td>3866.85520</td>\n",
       "    </tr>\n",
       "    <tr>\n",
       "      <th>...</th>\n",
       "      <td>...</td>\n",
       "      <td>...</td>\n",
       "      <td>...</td>\n",
       "      <td>...</td>\n",
       "      <td>...</td>\n",
       "      <td>...</td>\n",
       "      <td>...</td>\n",
       "    </tr>\n",
       "    <tr>\n",
       "      <th>1333</th>\n",
       "      <td>50</td>\n",
       "      <td>male</td>\n",
       "      <td>30.970</td>\n",
       "      <td>3</td>\n",
       "      <td>no</td>\n",
       "      <td>northwest</td>\n",
       "      <td>10600.54830</td>\n",
       "    </tr>\n",
       "    <tr>\n",
       "      <th>1334</th>\n",
       "      <td>18</td>\n",
       "      <td>female</td>\n",
       "      <td>31.920</td>\n",
       "      <td>0</td>\n",
       "      <td>no</td>\n",
       "      <td>northeast</td>\n",
       "      <td>2205.98080</td>\n",
       "    </tr>\n",
       "    <tr>\n",
       "      <th>1335</th>\n",
       "      <td>18</td>\n",
       "      <td>female</td>\n",
       "      <td>36.850</td>\n",
       "      <td>0</td>\n",
       "      <td>no</td>\n",
       "      <td>southeast</td>\n",
       "      <td>1629.83350</td>\n",
       "    </tr>\n",
       "    <tr>\n",
       "      <th>1336</th>\n",
       "      <td>21</td>\n",
       "      <td>female</td>\n",
       "      <td>25.800</td>\n",
       "      <td>0</td>\n",
       "      <td>no</td>\n",
       "      <td>southwest</td>\n",
       "      <td>2007.94500</td>\n",
       "    </tr>\n",
       "    <tr>\n",
       "      <th>1337</th>\n",
       "      <td>61</td>\n",
       "      <td>female</td>\n",
       "      <td>29.070</td>\n",
       "      <td>0</td>\n",
       "      <td>yes</td>\n",
       "      <td>northwest</td>\n",
       "      <td>29141.36030</td>\n",
       "    </tr>\n",
       "  </tbody>\n",
       "</table>\n",
       "<p>1338 rows × 7 columns</p>\n",
       "</div>"
      ],
      "text/plain": [
       "      age     sex     bmi  children smoker     region      charges\n",
       "0      19  female  27.900         0    yes  southwest  16884.92400\n",
       "1      18    male  33.770         1     no  southeast   1725.55230\n",
       "2      28    male  33.000         3     no  southeast   4449.46200\n",
       "3      33    male  22.705         0     no  northwest  21984.47061\n",
       "4      32    male  28.880         0     no  northwest   3866.85520\n",
       "...   ...     ...     ...       ...    ...        ...          ...\n",
       "1333   50    male  30.970         3     no  northwest  10600.54830\n",
       "1334   18  female  31.920         0     no  northeast   2205.98080\n",
       "1335   18  female  36.850         0     no  southeast   1629.83350\n",
       "1336   21  female  25.800         0     no  southwest   2007.94500\n",
       "1337   61  female  29.070         0    yes  northwest  29141.36030\n",
       "\n",
       "[1338 rows x 7 columns]"
      ]
     },
     "execution_count": 3,
     "metadata": {},
     "output_type": "execute_result"
    }
   ],
   "source": [
    "df"
   ]
  },
  {
   "cell_type": "code",
   "execution_count": 4,
   "id": "6ba0a0fa",
   "metadata": {},
   "outputs": [
    {
     "data": {
      "text/html": [
       "<div>\n",
       "<style scoped>\n",
       "    .dataframe tbody tr th:only-of-type {\n",
       "        vertical-align: middle;\n",
       "    }\n",
       "\n",
       "    .dataframe tbody tr th {\n",
       "        vertical-align: top;\n",
       "    }\n",
       "\n",
       "    .dataframe thead th {\n",
       "        text-align: right;\n",
       "    }\n",
       "</style>\n",
       "<table border=\"1\" class=\"dataframe\">\n",
       "  <thead>\n",
       "    <tr style=\"text-align: right;\">\n",
       "      <th></th>\n",
       "      <th>age</th>\n",
       "      <th>bmi</th>\n",
       "      <th>children</th>\n",
       "      <th>charges</th>\n",
       "    </tr>\n",
       "  </thead>\n",
       "  <tbody>\n",
       "    <tr>\n",
       "      <th>count</th>\n",
       "      <td>1338.000000</td>\n",
       "      <td>1338.000000</td>\n",
       "      <td>1338.000000</td>\n",
       "      <td>1338.000000</td>\n",
       "    </tr>\n",
       "    <tr>\n",
       "      <th>mean</th>\n",
       "      <td>39.207025</td>\n",
       "      <td>30.663397</td>\n",
       "      <td>1.094918</td>\n",
       "      <td>13270.422265</td>\n",
       "    </tr>\n",
       "    <tr>\n",
       "      <th>std</th>\n",
       "      <td>14.049960</td>\n",
       "      <td>6.098187</td>\n",
       "      <td>1.205493</td>\n",
       "      <td>12110.011237</td>\n",
       "    </tr>\n",
       "    <tr>\n",
       "      <th>min</th>\n",
       "      <td>18.000000</td>\n",
       "      <td>15.960000</td>\n",
       "      <td>0.000000</td>\n",
       "      <td>1121.873900</td>\n",
       "    </tr>\n",
       "    <tr>\n",
       "      <th>25%</th>\n",
       "      <td>27.000000</td>\n",
       "      <td>26.296250</td>\n",
       "      <td>0.000000</td>\n",
       "      <td>4740.287150</td>\n",
       "    </tr>\n",
       "    <tr>\n",
       "      <th>50%</th>\n",
       "      <td>39.000000</td>\n",
       "      <td>30.400000</td>\n",
       "      <td>1.000000</td>\n",
       "      <td>9382.033000</td>\n",
       "    </tr>\n",
       "    <tr>\n",
       "      <th>75%</th>\n",
       "      <td>51.000000</td>\n",
       "      <td>34.693750</td>\n",
       "      <td>2.000000</td>\n",
       "      <td>16639.912515</td>\n",
       "    </tr>\n",
       "    <tr>\n",
       "      <th>max</th>\n",
       "      <td>64.000000</td>\n",
       "      <td>53.130000</td>\n",
       "      <td>5.000000</td>\n",
       "      <td>63770.428010</td>\n",
       "    </tr>\n",
       "  </tbody>\n",
       "</table>\n",
       "</div>"
      ],
      "text/plain": [
       "               age          bmi     children       charges\n",
       "count  1338.000000  1338.000000  1338.000000   1338.000000\n",
       "mean     39.207025    30.663397     1.094918  13270.422265\n",
       "std      14.049960     6.098187     1.205493  12110.011237\n",
       "min      18.000000    15.960000     0.000000   1121.873900\n",
       "25%      27.000000    26.296250     0.000000   4740.287150\n",
       "50%      39.000000    30.400000     1.000000   9382.033000\n",
       "75%      51.000000    34.693750     2.000000  16639.912515\n",
       "max      64.000000    53.130000     5.000000  63770.428010"
      ]
     },
     "execution_count": 4,
     "metadata": {},
     "output_type": "execute_result"
    }
   ],
   "source": [
    "df.describe()"
   ]
  },
  {
   "cell_type": "code",
   "execution_count": 5,
   "id": "8495f9a2",
   "metadata": {},
   "outputs": [
    {
     "name": "stdout",
     "output_type": "stream",
     "text": [
      "<class 'pandas.core.frame.DataFrame'>\n",
      "RangeIndex: 1338 entries, 0 to 1337\n",
      "Data columns (total 7 columns):\n",
      " #   Column    Non-Null Count  Dtype  \n",
      "---  ------    --------------  -----  \n",
      " 0   age       1338 non-null   int64  \n",
      " 1   sex       1338 non-null   object \n",
      " 2   bmi       1338 non-null   float64\n",
      " 3   children  1338 non-null   int64  \n",
      " 4   smoker    1338 non-null   object \n",
      " 5   region    1338 non-null   object \n",
      " 6   charges   1338 non-null   float64\n",
      "dtypes: float64(2), int64(2), object(3)\n",
      "memory usage: 73.3+ KB\n"
     ]
    }
   ],
   "source": [
    "df.info()"
   ]
  },
  {
   "cell_type": "markdown",
   "id": "4873d83d",
   "metadata": {},
   "source": [
    "#### Data Preprocessing"
   ]
  },
  {
   "cell_type": "code",
   "execution_count": 6,
   "id": "c7b3707d",
   "metadata": {},
   "outputs": [
    {
     "data": {
      "text/plain": [
       "age         0\n",
       "sex         0\n",
       "bmi         0\n",
       "children    0\n",
       "smoker      0\n",
       "region      0\n",
       "charges     0\n",
       "dtype: int64"
      ]
     },
     "execution_count": 6,
     "metadata": {},
     "output_type": "execute_result"
    }
   ],
   "source": [
    "df.isnull().sum()"
   ]
  },
  {
   "cell_type": "markdown",
   "id": "050b60d4",
   "metadata": {},
   "source": [
    "No null values to be handled"
   ]
  },
  {
   "cell_type": "markdown",
   "id": "d67e565a",
   "metadata": {},
   "source": [
    "                                  "
   ]
  },
  {
   "cell_type": "code",
   "execution_count": 7,
   "id": "be57fcf2",
   "metadata": {},
   "outputs": [
    {
     "data": {
      "text/html": [
       "<div>\n",
       "<style scoped>\n",
       "    .dataframe tbody tr th:only-of-type {\n",
       "        vertical-align: middle;\n",
       "    }\n",
       "\n",
       "    .dataframe tbody tr th {\n",
       "        vertical-align: top;\n",
       "    }\n",
       "\n",
       "    .dataframe thead th {\n",
       "        text-align: right;\n",
       "    }\n",
       "</style>\n",
       "<table border=\"1\" class=\"dataframe\">\n",
       "  <thead>\n",
       "    <tr style=\"text-align: right;\">\n",
       "      <th></th>\n",
       "      <th>age</th>\n",
       "      <th>sex</th>\n",
       "      <th>bmi</th>\n",
       "      <th>children</th>\n",
       "      <th>smoker</th>\n",
       "      <th>region</th>\n",
       "      <th>charges</th>\n",
       "    </tr>\n",
       "  </thead>\n",
       "  <tbody>\n",
       "    <tr>\n",
       "      <th>0</th>\n",
       "      <td>19</td>\n",
       "      <td>0</td>\n",
       "      <td>27.900</td>\n",
       "      <td>0</td>\n",
       "      <td>1</td>\n",
       "      <td>3</td>\n",
       "      <td>16884.92400</td>\n",
       "    </tr>\n",
       "    <tr>\n",
       "      <th>1</th>\n",
       "      <td>18</td>\n",
       "      <td>1</td>\n",
       "      <td>33.770</td>\n",
       "      <td>1</td>\n",
       "      <td>0</td>\n",
       "      <td>2</td>\n",
       "      <td>1725.55230</td>\n",
       "    </tr>\n",
       "    <tr>\n",
       "      <th>2</th>\n",
       "      <td>28</td>\n",
       "      <td>1</td>\n",
       "      <td>33.000</td>\n",
       "      <td>3</td>\n",
       "      <td>0</td>\n",
       "      <td>2</td>\n",
       "      <td>4449.46200</td>\n",
       "    </tr>\n",
       "    <tr>\n",
       "      <th>3</th>\n",
       "      <td>33</td>\n",
       "      <td>1</td>\n",
       "      <td>22.705</td>\n",
       "      <td>0</td>\n",
       "      <td>0</td>\n",
       "      <td>1</td>\n",
       "      <td>21984.47061</td>\n",
       "    </tr>\n",
       "    <tr>\n",
       "      <th>4</th>\n",
       "      <td>32</td>\n",
       "      <td>1</td>\n",
       "      <td>28.880</td>\n",
       "      <td>0</td>\n",
       "      <td>0</td>\n",
       "      <td>1</td>\n",
       "      <td>3866.85520</td>\n",
       "    </tr>\n",
       "    <tr>\n",
       "      <th>...</th>\n",
       "      <td>...</td>\n",
       "      <td>...</td>\n",
       "      <td>...</td>\n",
       "      <td>...</td>\n",
       "      <td>...</td>\n",
       "      <td>...</td>\n",
       "      <td>...</td>\n",
       "    </tr>\n",
       "    <tr>\n",
       "      <th>1333</th>\n",
       "      <td>50</td>\n",
       "      <td>1</td>\n",
       "      <td>30.970</td>\n",
       "      <td>3</td>\n",
       "      <td>0</td>\n",
       "      <td>1</td>\n",
       "      <td>10600.54830</td>\n",
       "    </tr>\n",
       "    <tr>\n",
       "      <th>1334</th>\n",
       "      <td>18</td>\n",
       "      <td>0</td>\n",
       "      <td>31.920</td>\n",
       "      <td>0</td>\n",
       "      <td>0</td>\n",
       "      <td>0</td>\n",
       "      <td>2205.98080</td>\n",
       "    </tr>\n",
       "    <tr>\n",
       "      <th>1335</th>\n",
       "      <td>18</td>\n",
       "      <td>0</td>\n",
       "      <td>36.850</td>\n",
       "      <td>0</td>\n",
       "      <td>0</td>\n",
       "      <td>2</td>\n",
       "      <td>1629.83350</td>\n",
       "    </tr>\n",
       "    <tr>\n",
       "      <th>1336</th>\n",
       "      <td>21</td>\n",
       "      <td>0</td>\n",
       "      <td>25.800</td>\n",
       "      <td>0</td>\n",
       "      <td>0</td>\n",
       "      <td>3</td>\n",
       "      <td>2007.94500</td>\n",
       "    </tr>\n",
       "    <tr>\n",
       "      <th>1337</th>\n",
       "      <td>61</td>\n",
       "      <td>0</td>\n",
       "      <td>29.070</td>\n",
       "      <td>0</td>\n",
       "      <td>1</td>\n",
       "      <td>1</td>\n",
       "      <td>29141.36030</td>\n",
       "    </tr>\n",
       "  </tbody>\n",
       "</table>\n",
       "<p>1338 rows × 7 columns</p>\n",
       "</div>"
      ],
      "text/plain": [
       "      age  sex     bmi  children  smoker  region      charges\n",
       "0      19    0  27.900         0       1       3  16884.92400\n",
       "1      18    1  33.770         1       0       2   1725.55230\n",
       "2      28    1  33.000         3       0       2   4449.46200\n",
       "3      33    1  22.705         0       0       1  21984.47061\n",
       "4      32    1  28.880         0       0       1   3866.85520\n",
       "...   ...  ...     ...       ...     ...     ...          ...\n",
       "1333   50    1  30.970         3       0       1  10600.54830\n",
       "1334   18    0  31.920         0       0       0   2205.98080\n",
       "1335   18    0  36.850         0       0       2   1629.83350\n",
       "1336   21    0  25.800         0       0       3   2007.94500\n",
       "1337   61    0  29.070         0       1       1  29141.36030\n",
       "\n",
       "[1338 rows x 7 columns]"
      ]
     },
     "execution_count": 7,
     "metadata": {},
     "output_type": "execute_result"
    }
   ],
   "source": [
    "from sklearn.preprocessing import LabelEncoder\n",
    "\n",
    "encoder = LabelEncoder()\n",
    "df.sex = encoder.fit_transform(df.sex)\n",
    "df.smoker = encoder.fit_transform(df.smoker)\n",
    "df.region = encoder.fit_transform(df.region) \n",
    "df"
   ]
  },
  {
   "cell_type": "markdown",
   "id": "f0d4e881",
   "metadata": {},
   "source": [
    "Converted the labels in columns sex,smoker and region into numerical values."
   ]
  },
  {
   "cell_type": "markdown",
   "id": "24e312c1",
   "metadata": {},
   "source": [
    "       "
   ]
  },
  {
   "cell_type": "markdown",
   "id": "3bf6ae52",
   "metadata": {},
   "source": [
    "                         "
   ]
  },
  {
   "cell_type": "markdown",
   "id": "bc480ece",
   "metadata": {},
   "source": [
    "Scaling the features 'bmi' and 'charges' "
   ]
  },
  {
   "cell_type": "code",
   "execution_count": 8,
   "id": "ef4e73b6",
   "metadata": {},
   "outputs": [],
   "source": [
    "from sklearn.preprocessing import MinMaxScaler\n",
    "scaler = MinMaxScaler()\n",
    "df[['bmi','charges']]=scaler.fit_transform(df[['bmi','charges']])"
   ]
  },
  {
   "cell_type": "markdown",
   "id": "1d85776f",
   "metadata": {},
   "source": [
    "                            "
   ]
  },
  {
   "cell_type": "markdown",
   "id": "a39fec18",
   "metadata": {},
   "source": [
    "#### EDA"
   ]
  },
  {
   "cell_type": "code",
   "execution_count": 9,
   "id": "bea9239e",
   "metadata": {},
   "outputs": [
    {
     "data": {
      "text/plain": [
       "[]"
      ]
     },
     "execution_count": 9,
     "metadata": {},
     "output_type": "execute_result"
    },
    {
     "data": {
      "image/png": "[encoded data removed]",
      "text/plain": [
       "<Figure size 720x792 with 2 Axes>"
      ]
     },
     "metadata": {
      "needs_background": "light"
     },
     "output_type": "display_data"
    }
   ],
   "source": [
    "plt.figure(figsize=(10,11))\n",
    "sns.heatmap(df.corr(),annot=True,cmap=\"YlGnBu\")\n",
    "plt.plot()"
   ]
  },
  {
   "cell_type": "markdown",
   "id": "ca9a4b44",
   "metadata": {},
   "source": [
    "Correlation of the variables"
   ]
  },
  {
   "cell_type": "code",
   "execution_count": 10,
   "id": "4e12adf8",
   "metadata": {},
   "outputs": [
    {
     "name": "stderr",
     "output_type": "stream",
     "text": [
      "C:\\Users\\megha\\anaconda3\\lib\\site-packages\\seaborn\\_decorators.py:36: FutureWarning: Pass the following variables as keyword args: x, y. From version 0.12, the only valid positional argument will be `data`, and passing other arguments without an explicit keyword will result in an error or misinterpretation.\n",
      "  warnings.warn(\n"
     ]
    },
    {
     "data": {
      "image/png": "[encoded data removed]",
      "text/plain": [
       "<Figure size 864x648 with 1 Axes>"
      ]
     },
     "metadata": {
      "needs_background": "light"
     },
     "output_type": "display_data"
    }
   ],
   "source": [
    "plt.figure(figsize=(12,9))\n",
    "plt.title(\"Relation between Smoker and Charges\")\n",
    "sns.scatterplot(df[\"smoker\"],df[\"charges\"],s=30)\n",
    "plt.show()"
   ]
  },
  {
   "cell_type": "markdown",
   "id": "5b14607c",
   "metadata": {},
   "source": [
    "From the scatter plot, it is clear that there is an increase in the insurance charges in users who smoke compared with those who do not smoke."
   ]
  },
  {
   "cell_type": "markdown",
   "id": "8eaa7942",
   "metadata": {},
   "source": [
    "                           "
   ]
  },
  {
   "cell_type": "code",
   "execution_count": 10,
   "id": "2fc0bbcf",
   "metadata": {},
   "outputs": [
    {
     "data": {
      "image/png": "[encoded data removed]",
      "text/plain": [
       "<Figure size 720x504 with 1 Axes>"
      ]
     },
     "metadata": {
      "needs_background": "light"
     },
     "output_type": "display_data"
    }
   ],
   "source": [
    "plt.figure(figsize = (10, 7))\n",
    "x = df[\"charges\"]\n",
    "plt.hist(x, bins = 20, color =\"skyblue\")\n",
    "plt.title(\"Distribution of Charges\")\n",
    "plt.xlabel(\"Charges\")\n",
    "plt.ylabel(\"Count\")\n",
    "\n",
    "plt.show()\n"
   ]
  },
  {
   "cell_type": "markdown",
   "id": "84968e42",
   "metadata": {},
   "source": [
    "#### Splitting of data"
   ]
  },
  {
   "cell_type": "code",
   "execution_count": 11,
   "id": "20ca5c4f",
   "metadata": {},
   "outputs": [],
   "source": [
    "x=df.drop(labels=\"charges\",axis=1)\n",
    "y=df['charges']"
   ]
  },
  {
   "cell_type": "code",
   "execution_count": 12,
   "id": "6cc169bb",
   "metadata": {},
   "outputs": [],
   "source": [
    "from sklearn.model_selection import train_test_split\n",
    "x_train, x_test, y_train, y_test = train_test_split(x,y, test_size=0.30,random_state=101)\n"
   ]
  },
  {
   "cell_type": "markdown",
   "id": "db566725",
   "metadata": {},
   "source": [
    "### Regression Models"
   ]
  },
  {
   "cell_type": "markdown",
   "id": "9b8daed4",
   "metadata": {},
   "source": [
    "### Linear Regression"
   ]
  },
  {
   "cell_type": "code",
   "execution_count": 13,
   "id": "75ae8cc2",
   "metadata": {},
   "outputs": [],
   "source": [
    "from sklearn.linear_model import LinearRegression\n",
    "lr=LinearRegression()\n",
    "\n",
    "lr.fit(x_train,y_train)\n",
    "\n",
    "lr.predict(x_test)\n",
    "pred = lr.predict(x_test)"
   ]
  },
  {
   "cell_type": "markdown",
   "id": "c7500a03",
   "metadata": {},
   "source": [
    "##### Evaluation"
   ]
  },
  {
   "cell_type": "code",
   "execution_count": 14,
   "id": "5cfa2894",
   "metadata": {},
   "outputs": [
    {
     "name": "stdout",
     "output_type": "stream",
     "text": [
      "rmse: 0.09242864233326234\n",
      "Regression Score: 0.7613126015198817\n"
     ]
    }
   ],
   "source": [
    "from sklearn.metrics import mean_squared_error\n",
    "from sklearn.metrics import r2_score\n",
    "\n",
    "rmse_lr=np.sqrt(mean_squared_error(y_test, pred))\n",
    "r2_lr=r2_score(y_test, pred)\n",
    "\n",
    "print(\"rmse:\",rmse_lr)\n",
    "print(\"Regression Score:\",r2_lr)"
   ]
  },
  {
   "cell_type": "markdown",
   "id": "1423f988",
   "metadata": {},
   "source": [
    "### Ridge"
   ]
  },
  {
   "cell_type": "code",
   "execution_count": 15,
   "id": "692eff68",
   "metadata": {},
   "outputs": [],
   "source": [
    "from sklearn.linear_model import Ridge\n",
    "\n",
    "rr = Ridge()\n",
    "rr.fit(x_train,y_train)\n",
    "\n",
    "pred_r = rr.predict(x_test)\n"
   ]
  },
  {
   "cell_type": "markdown",
   "id": "ca39fa08",
   "metadata": {},
   "source": [
    "##### Evaluation"
   ]
  },
  {
   "cell_type": "code",
   "execution_count": 16,
   "id": "9119443a",
   "metadata": {},
   "outputs": [
    {
     "name": "stdout",
     "output_type": "stream",
     "text": [
      "rmse: 0.09237239446792302\n",
      "Regression Score: 0.7616030217010565\n"
     ]
    }
   ],
   "source": [
    "r2_rr = r2_score(y_test,pred_r)\n",
    "rmse_rr=np.sqrt(mean_squared_error(y_test, pred_r))\n",
    "\n",
    "print(\"rmse:\",rmse_rr)\n",
    "print(\"Regression Score:\",r2_rr)"
   ]
  },
  {
   "cell_type": "markdown",
   "id": "e7aa723d",
   "metadata": {},
   "source": [
    "### Decision Tree"
   ]
  },
  {
   "cell_type": "code",
   "execution_count": 17,
   "id": "fa949dd0",
   "metadata": {},
   "outputs": [],
   "source": [
    "from sklearn.tree import DecisionTreeRegressor\n",
    "\n",
    "dt = DecisionTreeRegressor(criterion='absolute_error',random_state=0)\n",
    "dt.fit(x_train,y_train)\n",
    "\n",
    "pred_d = dt.predict(x_test)\n"
   ]
  },
  {
   "cell_type": "markdown",
   "id": "b7ac5341",
   "metadata": {},
   "source": [
    "##### Evaluation"
   ]
  },
  {
   "cell_type": "code",
   "execution_count": 18,
   "id": "b4becd94",
   "metadata": {},
   "outputs": [
    {
     "name": "stdout",
     "output_type": "stream",
     "text": [
      "rmse: 0.10439064163882242\n",
      "Regression Score: 0.6955335262618613\n"
     ]
    }
   ],
   "source": [
    "r2_dt = r2_score(y_test,pred_d)\n",
    "rmse_dt=np.sqrt(mean_squared_error(y_test, pred_d))\n",
    "\n",
    "print(\"rmse:\",rmse_dt)\n",
    "print(\"Regression Score:\",r2_dt)"
   ]
  },
  {
   "cell_type": "markdown",
   "id": "e58670ac",
   "metadata": {},
   "source": [
    "### Random Forest"
   ]
  },
  {
   "cell_type": "code",
   "execution_count": 19,
   "id": "3c1175fd",
   "metadata": {},
   "outputs": [],
   "source": [
    "from sklearn.ensemble import RandomForestRegressor\n",
    "\n",
    "rf = RandomForestRegressor()\n",
    "rf.fit(x_train,y_train)\n",
    "\n",
    "pred_rf = rf.predict(x_test)\n"
   ]
  },
  {
   "cell_type": "markdown",
   "id": "05f33d42",
   "metadata": {},
   "source": [
    "##### Evaluation"
   ]
  },
  {
   "cell_type": "code",
   "execution_count": 20,
   "id": "706bbb1d",
   "metadata": {},
   "outputs": [
    {
     "name": "stdout",
     "output_type": "stream",
     "text": [
      "rmse: 0.07968456917359618\n",
      "Regression Score: 0.8225954308282372\n"
     ]
    }
   ],
   "source": [
    "r2_rf = r2_score(y_test,pred_rf)\n",
    "rmse_rf=np.sqrt(mean_squared_error(y_test, pred_rf))\n",
    "\n",
    "print(\"rmse:\",rmse_rf)\n",
    "print(\"Regression Score:\",r2_rf)"
   ]
  },
  {
   "cell_type": "markdown",
   "id": "622bf5a0",
   "metadata": {},
   "source": [
    "### XGBoost"
   ]
  },
  {
   "cell_type": "code",
   "execution_count": 21,
   "id": "29b7c014",
   "metadata": {},
   "outputs": [],
   "source": [
    "from xgboost.sklearn import XGBRegressor\n",
    "\n",
    "xgb_reg = XGBRegressor(learning_rate = 1.0, max_depth=6, min_child_weight=40,seed=0)\n",
    "xgb_reg.fit(x_train,y_train)\n",
    "pred_xg=xgb_reg.predict(x_test)"
   ]
  },
  {
   "cell_type": "markdown",
   "id": "7c621282",
   "metadata": {},
   "source": [
    "##### Evaluation"
   ]
  },
  {
   "cell_type": "code",
   "execution_count": 22,
   "id": "43989f21",
   "metadata": {},
   "outputs": [
    {
     "name": "stdout",
     "output_type": "stream",
     "text": [
      "rmse: 0.08832767205467014\n",
      "Regression Score: 0.7820233809125711\n"
     ]
    }
   ],
   "source": [
    "r2_xgb=r2_score(y_test,pred_xg)\n",
    "rmse_xgb=np.sqrt(mean_squared_error(y_test, pred_xg))\n",
    "\n",
    "print(\"rmse:\",rmse_xgb)\n",
    "print(\"Regression Score:\",r2_xgb)"
   ]
  },
  {
   "cell_type": "markdown",
   "id": "304ce7b3",
   "metadata": {},
   "source": [
    "### KNN"
   ]
  },
  {
   "cell_type": "code",
   "execution_count": 23,
   "id": "8ed88eef",
   "metadata": {},
   "outputs": [],
   "source": [
    "from sklearn.neighbors import KNeighborsRegressor\n",
    "\n",
    "knn = KNeighborsRegressor(n_neighbors=5)\n",
    "knn.fit(x_train,y_train)\n",
    "pred_knn=knn.predict(x_test)"
   ]
  },
  {
   "cell_type": "markdown",
   "id": "746b1b6e",
   "metadata": {},
   "source": [
    "##### Evaluation"
   ]
  },
  {
   "cell_type": "code",
   "execution_count": 24,
   "id": "1967e2cd",
   "metadata": {},
   "outputs": [
    {
     "name": "stdout",
     "output_type": "stream",
     "text": [
      "rmse: 0.15490324737210656\n",
      "Regression Score: 0.3295947786530874\n"
     ]
    }
   ],
   "source": [
    "r2_knn=r2_score(y_test,pred_knn)\n",
    "rmse_knn=np.sqrt(mean_squared_error(y_test, pred_knn))\n",
    "\n",
    "print(\"rmse:\",rmse_knn)\n",
    "print(\"Regression Score:\",r2_knn)"
   ]
  },
  {
   "cell_type": "markdown",
   "id": "b9810899",
   "metadata": {},
   "source": [
    "### Comparison of Models"
   ]
  },
  {
   "cell_type": "markdown",
   "id": "158500a9",
   "metadata": {},
   "source": [
    "#### Comparing Regression Scores"
   ]
  },
  {
   "cell_type": "code",
   "execution_count": 25,
   "id": "713bd2dd",
   "metadata": {},
   "outputs": [],
   "source": [
    "R2_Score = [r2_lr,r2_rr,r2_dt,r2_rf,r2_xgb,r2_knn]\n",
    "\n",
    "Models = ['Linear Regression', ' Ridge Regression' , 'Decision Tree', 'Random Forest','xgboost','KNN']"
   ]
  },
  {
   "cell_type": "code",
   "execution_count": 26,
   "id": "a5fb513d",
   "metadata": {},
   "outputs": [
    {
     "name": "stderr",
     "output_type": "stream",
     "text": [
      "C:\\Users\\megha\\anaconda3\\lib\\site-packages\\seaborn\\_decorators.py:36: FutureWarning: Pass the following variables as keyword args: x, y. From version 0.12, the only valid positional argument will be `data`, and passing other arguments without an explicit keyword will result in an error or misinterpretation.\n",
      "  warnings.warn(\n"
     ]
    },
    {
     "data": {
      "image/png": "[encoded data removed]",
      "text/plain": [
       "<Figure size 432x288 with 1 Axes>"
      ]
     },
     "metadata": {
      "needs_background": "light"
     },
     "output_type": "display_data"
    }
   ],
   "source": [
    "sns.barplot(R2_Score, Models)\n",
    "plt.xlabel('R2 Score')\n",
    "plt.title('R2 Score')\n",
    "plt.show()"
   ]
  },
  {
   "cell_type": "markdown",
   "id": "07b6ce3c",
   "metadata": {},
   "source": [
    "Here, Random Forest has the highest Regression Score."
   ]
  },
  {
   "cell_type": "markdown",
   "id": "c777e33f",
   "metadata": {},
   "source": [
    "                    "
   ]
  },
  {
   "cell_type": "markdown",
   "id": "736853f2",
   "metadata": {},
   "source": [
    "#### Comparison of RMSE Values"
   ]
  },
  {
   "cell_type": "code",
   "execution_count": 28,
   "id": "de76836d",
   "metadata": {},
   "outputs": [],
   "source": [
    "rmse = [rmse_lr,rmse_rr,rmse_dt,rmse_rf,rmse_xgb,rmse_knn]\n",
    "\n",
    "models = ['Linear Regression', ' Ridge Regression' , 'Decision Tree', 'Random Forest','XGBoost','KNN']"
   ]
  },
  {
   "cell_type": "code",
   "execution_count": 29,
   "id": "2010eab4",
   "metadata": {},
   "outputs": [
    {
     "name": "stderr",
     "output_type": "stream",
     "text": [
      "C:\\Users\\megha\\anaconda3\\lib\\site-packages\\seaborn\\_decorators.py:36: FutureWarning: Pass the following variables as keyword args: x, y. From version 0.12, the only valid positional argument will be `data`, and passing other arguments without an explicit keyword will result in an error or misinterpretation.\n",
      "  warnings.warn(\n"
     ]
    },
    {
     "data": {
      "image/png": "[encoded data removed]",
      "text/plain": [
       "<Figure size 432x288 with 1 Axes>"
      ]
     },
     "metadata": {
      "needs_background": "light"
     },
     "output_type": "display_data"
    }
   ],
   "source": [
    "sns.barplot(rmse, models)\n",
    "plt.xlabel('RMSE value')\n",
    "plt.title('RMSE')\n",
    "plt.show()"
   ]
  },
  {
   "cell_type": "markdown",
   "id": "6a6beb8c",
   "metadata": {},
   "source": [
    "Here, Random Forest has the least Root Mean Squared Error Value."
   ]
  },
  {
   "cell_type": "markdown",
   "id": "d64028e1",
   "metadata": {},
   "source": [
    "                   "
   ]
  },
  {
   "cell_type": "markdown",
   "id": "50414a83",
   "metadata": {},
   "source": [
    "#### From the comparison of Regression Scores and RMSE values, we could find the Random Forest as the best Model."
   ]
  },
  {
   "cell_type": "markdown",
   "id": "ff09c5da",
   "metadata": {},
   "source": [
    "### Interpretability"
   ]
  },
  {
   "cell_type": "markdown",
   "id": "38e0ae26",
   "metadata": {},
   "source": [
    "#### Using the Rulefit Model to generate candidate rule that interprets the Random Forest Model."
   ]
  },
  {
   "cell_type": "markdown",
   "id": "03a261a9",
   "metadata": {},
   "source": [
    "##### Plotting the feature importances :"
   ]
  },
  {
   "cell_type": "code",
   "execution_count": 30,
   "id": "91adb65d",
   "metadata": {},
   "outputs": [
    {
     "data": {
      "image/png": "[encoded data removed]",
      "text/plain": [
       "<Figure size 1152x648 with 1 Axes>"
      ]
     },
     "metadata": {
      "needs_background": "light"
     },
     "output_type": "display_data"
    }
   ],
   "source": [
    " \n",
    "feat_importances = pd.Series(rf.feature_importances_, index=x.columns)\n",
    "feat_importances = feat_importances.sort_values(ascending=False)\n",
    "\n",
    "\n",
    "plt.subplot(224) \n",
    "feat_importances.plot(kind='bar', title='feature Importance', figsize=(16,9),color =\"orange\")\n",
    "\n",
    "plt.xticks(rotation=0)\n",
    "\n",
    "plt.show()"
   ]
  },
  {
   "cell_type": "markdown",
   "id": "ec848e98",
   "metadata": {},
   "source": [
    "We can easily identify Smoker, bmi and age are by far the most significant features affecting the target (i.e., charges)."
   ]
  },
  {
   "cell_type": "markdown",
   "id": "6b11de01",
   "metadata": {},
   "source": [
    "#### creating custom rules for more explainability and interpretability."
   ]
  },
  {
   "cell_type": "code",
   "execution_count": 31,
   "id": "2b2150bc",
   "metadata": {},
   "outputs": [
    {
     "name": "stdout",
     "output_type": "stream",
     "text": [
      "Requirement already satisfied: rulefit in c:\\users\\megha\\anaconda3\\lib\\site-packages (0.3.1)\n",
      "Requirement already satisfied: scikit-learn>=0.20.2 in c:\\users\\megha\\anaconda3\\lib\\site-packages (from rulefit) (1.0.2)\n",
      "Requirement already satisfied: pandas>=0.24.1 in c:\\users\\megha\\anaconda3\\lib\\site-packages (from rulefit) (1.2.4)\n",
      "Requirement already satisfied: numpy>=1.16.1 in c:\\users\\megha\\anaconda3\\lib\\site-packages (from rulefit) (1.20.1)\n",
      "Requirement already satisfied: python-dateutil>=2.7.3 in c:\\users\\megha\\anaconda3\\lib\\site-packages (from pandas>=0.24.1->rulefit) (2.8.1)\n",
      "Requirement already satisfied: pytz>=2017.3 in c:\\users\\megha\\anaconda3\\lib\\site-packages (from pandas>=0.24.1->rulefit) (2021.1)\n",
      "Requirement already satisfied: six>=1.5 in c:\\users\\megha\\anaconda3\\lib\\site-packages (from python-dateutil>=2.7.3->pandas>=0.24.1->rulefit) (1.15.0)\n",
      "Requirement already satisfied: threadpoolctl>=2.0.0 in c:\\users\\megha\\anaconda3\\lib\\site-packages (from scikit-learn>=0.20.2->rulefit) (2.1.0)\n",
      "Requirement already satisfied: joblib>=0.11 in c:\\users\\megha\\anaconda3\\lib\\site-packages (from scikit-learn>=0.20.2->rulefit) (1.0.1)\n",
      "Requirement already satisfied: scipy>=1.1.0 in c:\\users\\megha\\anaconda3\\lib\\site-packages (from scikit-learn>=0.20.2->rulefit) (1.6.2)\n",
      "Note: you may need to restart the kernel to use updated packages.\n"
     ]
    }
   ],
   "source": [
    "pip install rulefit "
   ]
  },
  {
   "cell_type": "code",
   "execution_count": 32,
   "id": "8a9a6867",
   "metadata": {},
   "outputs": [
    {
     "data": {
      "text/plain": [
       "RuleFit(tree_generator=RandomForestRegressor(max_leaf_nodes=4, n_estimators=561,\n",
       "                                             random_state=560))"
      ]
     },
     "execution_count": 32,
     "metadata": {},
     "output_type": "execute_result"
    }
   ],
   "source": [
    "from rulefit import RuleFit\n",
    "\n",
    "rulefit = RuleFit(tree_generator=RandomForestRegressor(n_estimators = 100))            # Create and Train RuleFit Model\n",
    "rulefit.fit(x_train.values, y_train, feature_names=x_train.columns)"
   ]
  },
  {
   "cell_type": "code",
   "execution_count": 33,
   "id": "30ebfba0",
   "metadata": {},
   "outputs": [
    {
     "name": "stdout",
     "output_type": "stream",
     "text": [
      "rmse: 0.07164352190443767\n",
      "Regression score: 0.8565930505810819\n"
     ]
    }
   ],
   "source": [
    "rulefit_preds = rulefit.predict(x_test.values)\n",
    "rulefit_rmse = np.sqrt(((rulefit_preds - y_test) ** 2).mean())                  # Evaluation\n",
    "print(\"rmse:\",rulefit_rmse)\n",
    "print(\"Regression score:\",r2_score(y_test,rulefit_preds ))"
   ]
  },
  {
   "cell_type": "code",
   "execution_count": 34,
   "id": "6c682d57",
   "metadata": {},
   "outputs": [
    {
     "data": {
      "text/html": [
       "<div>\n",
       "<style scoped>\n",
       "    .dataframe tbody tr th:only-of-type {\n",
       "        vertical-align: middle;\n",
       "    }\n",
       "\n",
       "    .dataframe tbody tr th {\n",
       "        vertical-align: top;\n",
       "    }\n",
       "\n",
       "    .dataframe thead th {\n",
       "        text-align: right;\n",
       "    }\n",
       "</style>\n",
       "<table border=\"1\" class=\"dataframe\">\n",
       "  <thead>\n",
       "    <tr style=\"text-align: right;\">\n",
       "      <th></th>\n",
       "      <th>rule</th>\n",
       "      <th>type</th>\n",
       "      <th>coef</th>\n",
       "      <th>support</th>\n",
       "      <th>importance</th>\n",
       "    </tr>\n",
       "  </thead>\n",
       "  <tbody>\n",
       "    <tr>\n",
       "      <th>0</th>\n",
       "      <td>age</td>\n",
       "      <td>linear</td>\n",
       "      <td>0.003129</td>\n",
       "      <td>1.000000</td>\n",
       "      <td>0.043768</td>\n",
       "    </tr>\n",
       "    <tr>\n",
       "      <th>1</th>\n",
       "      <td>sex</td>\n",
       "      <td>linear</td>\n",
       "      <td>-0.000768</td>\n",
       "      <td>1.000000</td>\n",
       "      <td>0.000384</td>\n",
       "    </tr>\n",
       "    <tr>\n",
       "      <th>2</th>\n",
       "      <td>bmi</td>\n",
       "      <td>linear</td>\n",
       "      <td>0.031153</td>\n",
       "      <td>1.000000</td>\n",
       "      <td>0.004909</td>\n",
       "    </tr>\n",
       "    <tr>\n",
       "      <th>3</th>\n",
       "      <td>children</td>\n",
       "      <td>linear</td>\n",
       "      <td>0.002608</td>\n",
       "      <td>1.000000</td>\n",
       "      <td>0.003011</td>\n",
       "    </tr>\n",
       "    <tr>\n",
       "      <th>4</th>\n",
       "      <td>smoker</td>\n",
       "      <td>linear</td>\n",
       "      <td>0.164828</td>\n",
       "      <td>1.000000</td>\n",
       "      <td>0.067929</td>\n",
       "    </tr>\n",
       "    <tr>\n",
       "      <th>5</th>\n",
       "      <td>region</td>\n",
       "      <td>linear</td>\n",
       "      <td>-0.003136</td>\n",
       "      <td>1.000000</td>\n",
       "      <td>0.003442</td>\n",
       "    </tr>\n",
       "    <tr>\n",
       "      <th>214</th>\n",
       "      <td>smoker &lt;= 0.5</td>\n",
       "      <td>rule</td>\n",
       "      <td>-0.015846</td>\n",
       "      <td>0.773913</td>\n",
       "      <td>0.006628</td>\n",
       "    </tr>\n",
       "    <tr>\n",
       "      <th>163</th>\n",
       "      <td>age &lt;= 49.5 &amp; smoker &lt;= 0.5</td>\n",
       "      <td>rule</td>\n",
       "      <td>-0.007701</td>\n",
       "      <td>0.554439</td>\n",
       "      <td>0.003828</td>\n",
       "    </tr>\n",
       "    <tr>\n",
       "      <th>127</th>\n",
       "      <td>age &lt;= 48.5 &amp; smoker &lt;= 0.5</td>\n",
       "      <td>rule</td>\n",
       "      <td>-0.000000</td>\n",
       "      <td>0.543590</td>\n",
       "      <td>0.000000</td>\n",
       "    </tr>\n",
       "    <tr>\n",
       "      <th>169</th>\n",
       "      <td>smoker &lt;= 0.5 &amp; age &lt;= 47.5</td>\n",
       "      <td>rule</td>\n",
       "      <td>-0.000000</td>\n",
       "      <td>0.526587</td>\n",
       "      <td>0.000000</td>\n",
       "    </tr>\n",
       "    <tr>\n",
       "      <th>29</th>\n",
       "      <td>age &lt;= 46.5 &amp; smoker &lt;= 0.5</td>\n",
       "      <td>rule</td>\n",
       "      <td>-0.000000</td>\n",
       "      <td>0.520067</td>\n",
       "      <td>0.000000</td>\n",
       "    </tr>\n",
       "    <tr>\n",
       "      <th>188</th>\n",
       "      <td>smoker &lt;= 0.5 &amp; age &lt;= 45.5</td>\n",
       "      <td>rule</td>\n",
       "      <td>-0.000000</td>\n",
       "      <td>0.485569</td>\n",
       "      <td>0.000000</td>\n",
       "    </tr>\n",
       "    <tr>\n",
       "      <th>307</th>\n",
       "      <td>age &lt;= 43.5 &amp; smoker &lt;= 0.5</td>\n",
       "      <td>rule</td>\n",
       "      <td>-0.000000</td>\n",
       "      <td>0.478041</td>\n",
       "      <td>0.000000</td>\n",
       "    </tr>\n",
       "    <tr>\n",
       "      <th>40</th>\n",
       "      <td>age &lt;= 44.5 &amp; smoker &lt;= 0.5</td>\n",
       "      <td>rule</td>\n",
       "      <td>-0.000000</td>\n",
       "      <td>0.476667</td>\n",
       "      <td>0.000000</td>\n",
       "    </tr>\n",
       "    <tr>\n",
       "      <th>105</th>\n",
       "      <td>age &lt;= 42.5 &amp; smoker &lt;= 0.5</td>\n",
       "      <td>rule</td>\n",
       "      <td>-0.000000</td>\n",
       "      <td>0.446667</td>\n",
       "      <td>0.000000</td>\n",
       "    </tr>\n",
       "  </tbody>\n",
       "</table>\n",
       "</div>"
      ],
      "text/plain": [
       "                            rule    type      coef   support  importance\n",
       "0                            age  linear  0.003129  1.000000    0.043768\n",
       "1                            sex  linear -0.000768  1.000000    0.000384\n",
       "2                            bmi  linear  0.031153  1.000000    0.004909\n",
       "3                       children  linear  0.002608  1.000000    0.003011\n",
       "4                         smoker  linear  0.164828  1.000000    0.067929\n",
       "5                         region  linear -0.003136  1.000000    0.003442\n",
       "214                smoker <= 0.5    rule -0.015846  0.773913    0.006628\n",
       "163  age <= 49.5 & smoker <= 0.5    rule -0.007701  0.554439    0.003828\n",
       "127  age <= 48.5 & smoker <= 0.5    rule -0.000000  0.543590    0.000000\n",
       "169  smoker <= 0.5 & age <= 47.5    rule -0.000000  0.526587    0.000000\n",
       "29   age <= 46.5 & smoker <= 0.5    rule -0.000000  0.520067    0.000000\n",
       "188  smoker <= 0.5 & age <= 45.5    rule -0.000000  0.485569    0.000000\n",
       "307  age <= 43.5 & smoker <= 0.5    rule -0.000000  0.478041    0.000000\n",
       "40   age <= 44.5 & smoker <= 0.5    rule -0.000000  0.476667    0.000000\n",
       "105  age <= 42.5 & smoker <= 0.5    rule -0.000000  0.446667    0.000000"
      ]
     },
     "execution_count": 34,
     "metadata": {},
     "output_type": "execute_result"
    }
   ],
   "source": [
    "rules = rulefit.get_rules()\n",
    "rules = rules.sort_values('support', ascending=False)\n",
    "rules.iloc[:15]"
   ]
  },
  {
   "cell_type": "markdown",
   "id": "7d767588",
   "metadata": {},
   "source": [
    "#### To have a better output :"
   ]
  },
  {
   "cell_type": "code",
   "execution_count": 40,
   "id": "0a292c28",
   "metadata": {},
   "outputs": [],
   "source": [
    "pd.set_option('display.max_colwidth', 400)        # Adjust row width to read the entire rule\n",
    "pd.options.display.float_format = '{:.2f}'.format # Round decimals to 2 decimal places\n",
    "rules = rulefit.get_rules()                       # Get the rules"
   ]
  },
  {
   "cell_type": "markdown",
   "id": "9dcffd16",
   "metadata": {},
   "source": [
    "\n",
    "#### eliminating the existing features\n"
   ]
  },
  {
   "cell_type": "code",
   "execution_count": 41,
   "id": "9732f563",
   "metadata": {},
   "outputs": [],
   "source": [
    "rules = rules[rules['type']!='linear'] "
   ]
  },
  {
   "cell_type": "markdown",
   "id": "b9ec6936",
   "metadata": {},
   "source": [
    "#### eliminating the rules with 0.00 coefficient since they are not significant"
   ]
  },
  {
   "cell_type": "code",
   "execution_count": 42,
   "id": "d2ec70b3",
   "metadata": {},
   "outputs": [],
   "source": [
    "rules = rules[rules['coef'] != 0]"
   ]
  },
  {
   "cell_type": "markdown",
   "id": "e4eac1b1",
   "metadata": {},
   "source": [
    "#### sorting them based on their support value"
   ]
  },
  {
   "cell_type": "code",
   "execution_count": 43,
   "id": "6b50ea6e",
   "metadata": {},
   "outputs": [],
   "source": [
    "rules = rules.sort_values('support', ascending=False)"
   ]
  },
  {
   "cell_type": "markdown",
   "id": "00489221",
   "metadata": {},
   "source": [
    "#### eliminate the leanest rules to see more complex rules "
   ]
  },
  {
   "cell_type": "code",
   "execution_count": 44,
   "id": "2a5ad92f",
   "metadata": {},
   "outputs": [],
   "source": [
    "rules = rules[rules['rule'].str.len()>30]"
   ]
  },
  {
   "cell_type": "markdown",
   "id": "342c8e2f",
   "metadata": {},
   "source": [
    "                   "
   ]
  },
  {
   "cell_type": "markdown",
   "id": "8a40d7f8",
   "metadata": {},
   "source": [
    "                        "
   ]
  },
  {
   "cell_type": "code",
   "execution_count": 45,
   "id": "7dc41ab8",
   "metadata": {},
   "outputs": [
    {
     "data": {
      "text/html": [
       "<div>\n",
       "<style scoped>\n",
       "    .dataframe tbody tr th:only-of-type {\n",
       "        vertical-align: middle;\n",
       "    }\n",
       "\n",
       "    .dataframe tbody tr th {\n",
       "        vertical-align: top;\n",
       "    }\n",
       "\n",
       "    .dataframe thead th {\n",
       "        text-align: right;\n",
       "    }\n",
       "</style>\n",
       "<table border=\"1\" class=\"dataframe\">\n",
       "  <thead>\n",
       "    <tr style=\"text-align: right;\">\n",
       "      <th></th>\n",
       "      <th>rule</th>\n",
       "      <th>type</th>\n",
       "      <th>coef</th>\n",
       "      <th>support</th>\n",
       "      <th>importance</th>\n",
       "    </tr>\n",
       "  </thead>\n",
       "  <tbody>\n",
       "    <tr>\n",
       "      <th>311</th>\n",
       "      <td>age &lt;= 46.5 &amp; children &lt;= 1.5 &amp; smoker &lt;= 0.5</td>\n",
       "      <td>rule</td>\n",
       "      <td>-0.01</td>\n",
       "      <td>0.33</td>\n",
       "      <td>0.01</td>\n",
       "    </tr>\n",
       "    <tr>\n",
       "      <th>274</th>\n",
       "      <td>age &gt; 28.5 &amp; smoker &lt;= 0.5 &amp; age &lt;= 47.5</td>\n",
       "      <td>rule</td>\n",
       "      <td>-0.01</td>\n",
       "      <td>0.31</td>\n",
       "      <td>0.00</td>\n",
       "    </tr>\n",
       "    <tr>\n",
       "      <th>257</th>\n",
       "      <td>region &gt; 0.5 &amp; age &gt; 23.5 &amp; smoker &lt;= 0.5 &amp; age &lt;= 47.5</td>\n",
       "      <td>rule</td>\n",
       "      <td>-0.01</td>\n",
       "      <td>0.28</td>\n",
       "      <td>0.01</td>\n",
       "    </tr>\n",
       "    <tr>\n",
       "      <th>8</th>\n",
       "      <td>age &lt;= 42.5 &amp; age &gt; 24.5 &amp; smoker &lt;= 0.5</td>\n",
       "      <td>rule</td>\n",
       "      <td>-0.01</td>\n",
       "      <td>0.28</td>\n",
       "      <td>0.00</td>\n",
       "    </tr>\n",
       "    <tr>\n",
       "      <th>260</th>\n",
       "      <td>age &gt; 44.5 &amp; age &lt;= 58.5 &amp; smoker &lt;= 0.5</td>\n",
       "      <td>rule</td>\n",
       "      <td>-0.00</td>\n",
       "      <td>0.23</td>\n",
       "      <td>0.00</td>\n",
       "    </tr>\n",
       "  </tbody>\n",
       "</table>\n",
       "</div>"
      ],
      "text/plain": [
       "                                                        rule  type  coef  \\\n",
       "311            age <= 46.5 & children <= 1.5 & smoker <= 0.5  rule -0.01   \n",
       "274                 age > 28.5 & smoker <= 0.5 & age <= 47.5  rule -0.01   \n",
       "257  region > 0.5 & age > 23.5 & smoker <= 0.5 & age <= 47.5  rule -0.01   \n",
       "8                   age <= 42.5 & age > 24.5 & smoker <= 0.5  rule -0.01   \n",
       "260                 age > 44.5 & age <= 58.5 & smoker <= 0.5  rule -0.00   \n",
       "\n",
       "     support  importance  \n",
       "311     0.33        0.01  \n",
       "274     0.31        0.00  \n",
       "257     0.28        0.01  \n",
       "8       0.28        0.00  \n",
       "260     0.23        0.00  "
      ]
     },
     "execution_count": 45,
     "metadata": {},
     "output_type": "execute_result"
    }
   ],
   "source": [
    "rules.iloc[0:5]                                         # Show the first 5 rules"
   ]
  },
  {
   "cell_type": "code",
   "execution_count": null,
   "id": "38c6f7ee",
   "metadata": {},
   "outputs": [],
   "source": []
  }
 ],
 "metadata": {
  "kernelspec": {
   "display_name": "Python 3",
   "language": "python",
   "name": "python3"
  },
  "language_info": {
   "codemirror_mode": {
    "name": "ipython",
    "version": 3
   },
   "file_extension": ".py",
   "mimetype": "text/x-python",
   "name": "python",
   "nbconvert_exporter": "python",
   "pygments_lexer": "ipython3",
   "version": "3.8.8"
  }
 },
 "nbformat": 4,
 "nbformat_minor": 5
}
